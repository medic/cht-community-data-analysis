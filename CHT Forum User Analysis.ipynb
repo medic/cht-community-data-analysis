{
 "cells": [
  {
   "cell_type": "markdown",
   "id": "cf6061ed-2039-46f7-8c0e-0720c739b3fc",
   "metadata": {},
   "source": [
    "# CHT Forum Analysis"
   ]
  },
  {
   "cell_type": "markdown",
   "id": "b3dc81e0-2d05-4fab-af8c-f1a5d4feedba",
   "metadata": {},
   "source": [
    "This notebook does some high level analysis on [CHT Forum](https://forum.communityhealthtoolkit.org/) engagements. It mainly can be divided into two parts.\n",
    "\n",
    "1. **User analysis:** For the User analysis, we look into activity of users for example, how many topics were created? how many posts were replied? Number of signups compared with number of contributions.\n",
    "2. **Content analysis:** For the Content analysis, we look into different categories in the CHT Forum along with subcategories. The questions arises example, are all categories and subcategories active in same way? Which one is popular? Is there any inactivity? Is there any confusions? duplicates? Overlaps? "
   ]
  },
  {
   "cell_type": "code",
   "execution_count": 1,
   "id": "c7528c04-9c1d-49ed-8b8e-5e12ab4d4830",
   "metadata": {},
   "outputs": [],
   "source": [
    "import urllib.request\n",
    "import bs4 as bs\n",
    "import pandas as pd\n",
    "\n",
    "import matplotlib.pyplot as plt\n",
    "import seaborn as sns"
   ]
  },
  {
   "cell_type": "markdown",
   "id": "ab191b03-c28d-4c7f-a7f4-5b4888fbe7bc",
   "metadata": {},
   "source": [
    "Settings for plotting images"
   ]
  },
  {
   "cell_type": "code",
   "execution_count": 2,
   "id": "bfc2aa30-6c14-47ce-873d-02a463681068",
   "metadata": {},
   "outputs": [],
   "source": [
    "sns.set_style('darkgrid')\n",
    "sns.set(font_scale=1.25)\n",
    "palette = sns.color_palette('Blues_r', 15)\n",
    "palette2 = {'Medic':'mediumturquoise', 'Non-Medic':'dodgerblue'}\n",
    "sns.set_theme(rc={'figure.figsize':(11,5)})"
   ]
  },
  {
   "cell_type": "markdown",
   "id": "8797f4d5-2197-4aea-98d9-dedd4a2a4780",
   "metadata": {},
   "source": [
    "Next read the content from [CHT forum page](https://forum.communityhealthtoolkit.org/u?order=post_count&period=yearly), and save it in txt file and then read for analysing users."
   ]
  },
  {
   "cell_type": "markdown",
   "id": "b0653884-8972-43f8-923a-d25883b00c12",
   "metadata": {},
   "source": [
    "- First for the analysis, we would like to have it as dataframe. So, some cleaning is done using BeautifulSoup and converted to pandas dataframe.\n",
    "- Next, convert it to dataframe and rename columns as it is in the webpage.\n",
    "**Note:** the number of columns may vary on criteria of time you select for e.g. 'Time Read' column only appears when you select 'all time' "
   ]
  },
  {
   "cell_type": "code",
   "execution_count": 3,
   "id": "1ab7cbbb-2bd4-4440-8d13-c314af490948",
   "metadata": {},
   "outputs": [],
   "source": [
    "def convert_html_to_dataframe(html_filename, all_time=False):\n",
    "\n",
    "    with open(html_filename, 'r') as file:\n",
    "        html_content = file.read()\n",
    "    \n",
    "    soup = bs.BeautifulSoup(html_content)\n",
    "    \n",
    "    table = soup.find('div', attrs={'class':'directory-table'})\n",
    "    table_body = table.find('div', attrs={'directory-table__body'})\n",
    "    \n",
    "    table_rows = table.find_all('div', attrs={'directory-table__row ember-view'})\n",
    "    \n",
    "    res = []\n",
    "    for tr in table_rows:\n",
    "        td_name = tr.find('div', attrs={'user-detail'}).find('div', attrs={'name-line'}).find('span', attrs={'name'})\n",
    "        td_username = tr.find('div', attrs={'user-detail'}).find('div', attrs={'name-line'}).find('span', attrs={'username'})\n",
    "    \n",
    "        name_row = td_name.text.strip()\n",
    "        username_row = td_username.text.strip()\n",
    "        row = [name_row, username_row]\n",
    "        all_col = tr.find_all('span', attrs={'directory-table__value'})\n",
    "        for col in all_col:\n",
    "            row.append(col.text.strip())\n",
    "        res.append(row)\n",
    "\n",
    "    df = pd.DataFrame(res)\n",
    "    if all_time:\n",
    "        df.columns = ['Name','Username', 'Topics created', 'Replies posted', 'Days Visited', 'Solutions', 'Time Read']\n",
    "    else:\n",
    "        df.columns = ['Name','Username', 'Topics created', 'Replies posted', 'Days Visited', 'Solutions']\n",
    "\n",
    "    return df"
   ]
  },
  {
   "cell_type": "markdown",
   "id": "455c0775-4e64-4cdf-af36-00950f1ef775",
   "metadata": {},
   "source": [
    "Read to dataframe and confirm it is similar to what you see in the webpage."
   ]
  },
  {
   "cell_type": "code",
   "execution_count": 4,
   "id": "83649597-150d-48c8-ab07-ee3949065252",
   "metadata": {},
   "outputs": [
    {
     "data": {
      "text/html": [
       "<div>\n",
       "<style scoped>\n",
       "    .dataframe tbody tr th:only-of-type {\n",
       "        vertical-align: middle;\n",
       "    }\n",
       "\n",
       "    .dataframe tbody tr th {\n",
       "        vertical-align: top;\n",
       "    }\n",
       "\n",
       "    .dataframe thead th {\n",
       "        text-align: right;\n",
       "    }\n",
       "</style>\n",
       "<table border=\"1\" class=\"dataframe\">\n",
       "  <thead>\n",
       "    <tr style=\"text-align: right;\">\n",
       "      <th></th>\n",
       "      <th>Name</th>\n",
       "      <th>Username</th>\n",
       "      <th>Topics created</th>\n",
       "      <th>Replies posted</th>\n",
       "      <th>Days Visited</th>\n",
       "      <th>Solutions</th>\n",
       "      <th>Time Read</th>\n",
       "    </tr>\n",
       "  </thead>\n",
       "  <tbody>\n",
       "    <tr>\n",
       "      <th>0</th>\n",
       "      <td>Diana Barsan</td>\n",
       "      <td>diana</td>\n",
       "      <td>18</td>\n",
       "      <td>759</td>\n",
       "      <td>550</td>\n",
       "      <td>83</td>\n",
       "      <td>3d</td>\n",
       "    </tr>\n",
       "    <tr>\n",
       "      <th>1</th>\n",
       "      <td></td>\n",
       "      <td>mrjones</td>\n",
       "      <td>32</td>\n",
       "      <td>349</td>\n",
       "      <td>615</td>\n",
       "      <td>31</td>\n",
       "      <td>3d</td>\n",
       "    </tr>\n",
       "    <tr>\n",
       "      <th>2</th>\n",
       "      <td>Josh Kuestersteffen</td>\n",
       "      <td>jkuester</td>\n",
       "      <td>19</td>\n",
       "      <td>348</td>\n",
       "      <td>597</td>\n",
       "      <td>48</td>\n",
       "      <td>3d</td>\n",
       "    </tr>\n",
       "  </tbody>\n",
       "</table>\n",
       "</div>"
      ],
      "text/plain": [
       "                  Name  Username Topics created Replies posted Days Visited  \\\n",
       "0         Diana Barsan     diana             18            759          550   \n",
       "1                        mrjones             32            349          615   \n",
       "2  Josh Kuestersteffen  jkuester             19            348          597   \n",
       "\n",
       "  Solutions Time Read  \n",
       "0        83        3d  \n",
       "1        31        3d  \n",
       "2        48        3d  "
      ]
     },
     "execution_count": 4,
     "metadata": {},
     "output_type": "execute_result"
    }
   ],
   "source": [
    "df = convert_html_to_dataframe('html/html_content_all_time.txt', all_time=True)\n",
    "df.head(3)"
   ]
  },
  {
   "cell_type": "markdown",
   "id": "5b5a0a82-af0b-4575-be0b-a869082b7056",
   "metadata": {},
   "source": [
    "# Finding Inactive Users"
   ]
  },
  {
   "cell_type": "markdown",
   "id": "4d2ea3db-417b-4046-8c54-722df44b516a",
   "metadata": {},
   "source": [
    "Inactive users are the ones who:\n",
    "1. Do not create any topics\n",
    "2. Have not posted any replies in that time period. "
   ]
  },
  {
   "cell_type": "code",
   "execution_count": 5,
   "id": "122b5335-2570-4a59-a7e3-5a948f988168",
   "metadata": {},
   "outputs": [],
   "source": [
    "def get_inactive_users(df, time_frame_txt=None):\n",
    "    \n",
    "    inactive_users = df[(df['Topics created']=='0')&(df['Replies posted']=='0')]\n",
    "\n",
    "    print('-> There are {} users ({}).'.format(len(df), time_frame_txt))\n",
    "    print('-> There are {} inactive users ({}).'.format(len(inactive_users), time_frame_txt))\n",
    "    print('-> {} % users in CHT Forum has been inactive as of June 2024'.format(round((len(inactive_users)/len(df))*100),2))\n",
    "\n",
    "    return inactive_users"
   ]
  },
  {
   "cell_type": "markdown",
   "id": "8ec1dc49-8009-47bb-9dd0-eb21bb4f03b4",
   "metadata": {},
   "source": [
    "First lets look into **inactive users in CHT Forum from all time** results"
   ]
  },
  {
   "cell_type": "code",
   "execution_count": 6,
   "id": "97a823b0-ec7d-44f6-a1f5-f8a6fbb9b026",
   "metadata": {},
   "outputs": [
    {
     "name": "stdout",
     "output_type": "stream",
     "text": [
      "-> There are 733 users (all time).\n",
      "-> There are 386 inactive users (all time).\n",
      "-> 53 % users in CHT Forum has been inactive as of June 2024\n"
     ]
    }
   ],
   "source": [
    "inactive_user_df = get_inactive_users(df, 'all time')"
   ]
  },
  {
   "cell_type": "markdown",
   "id": "c56ad9fc-3f48-4abd-a6b7-a19d108b3432",
   "metadata": {},
   "source": [
    "Instead of all time we can focus on yearly and plan accordingly on how to strengthen CHT community in the forum.\n",
    "So, looking into a year round i.e. June 2023 to June 2024 (June 7)"
   ]
  },
  {
   "cell_type": "code",
   "execution_count": 7,
   "id": "c0bd3eb4-17d2-4235-9718-2f90da3ade73",
   "metadata": {},
   "outputs": [],
   "source": [
    "yearly_df = convert_html_to_dataframe('html/html_content.txt', all_time=False)"
   ]
  },
  {
   "cell_type": "code",
   "execution_count": 8,
   "id": "809ce4b8-5e7b-4b6a-83b4-25657d155ee4",
   "metadata": {},
   "outputs": [
    {
     "name": "stdout",
     "output_type": "stream",
     "text": [
      "-> There are 733 users (June 2023 to June 2024).\n",
      "-> There are 616 inactive users (June 2023 to June 2024).\n",
      "-> 84 % users in CHT Forum has been inactive as of June 2024\n"
     ]
    }
   ],
   "source": [
    "yearly_inactive_user_df = get_inactive_users(yearly_df, 'June 2023 to June 2024')"
   ]
  },
  {
   "cell_type": "markdown",
   "id": "c30f52dd-fb81-4a36-9520-c771595d95d3",
   "metadata": {},
   "source": [
    "# Yearly Active Users"
   ]
  },
  {
   "cell_type": "markdown",
   "id": "08245960-6b34-46dc-8dd4-5925ea936000",
   "metadata": {},
   "source": [
    "From results above, we know **616 inactive users who have neither created any topic or posted any replies**. \n",
    "Now, let's look at active users which organizations they are from specifically comparing Medic vs Non-Medic and their frequency of engagements."
   ]
  },
  {
   "cell_type": "markdown",
   "id": "762f1b1d-2c42-4a0e-904a-7d33a86a8053",
   "metadata": {},
   "source": [
    "For this you nee to have existing file with username and organizations and then you can merge with active users dataframe and run analysis."
   ]
  },
  {
   "cell_type": "code",
   "execution_count": 9,
   "id": "0bef1f81-8c45-47b2-b23d-52e3fc11b33f",
   "metadata": {},
   "outputs": [],
   "source": [
    "yearly_active_users = yearly_df[(yearly_df['Topics created']!='0')|(yearly_df['Replies posted']!='0')]"
   ]
  },
  {
   "cell_type": "code",
   "execution_count": 10,
   "id": "52acc6f6-d982-422f-8eb3-0f3bde63c208",
   "metadata": {},
   "outputs": [],
   "source": [
    "user_org_df = pd.read_csv('user_org.csv')"
   ]
  },
  {
   "cell_type": "code",
   "execution_count": 11,
   "id": "cf6141f9-9864-4f44-9a7b-ed31e11f13a4",
   "metadata": {},
   "outputs": [],
   "source": [
    "def plotting_org_compare(dataframe, focused_info, x_label, y_label, hue=None, title=''):\n",
    "    dataframe[focused_info] = pd.to_numeric(dataframe[focused_info])\n",
    "    if hue:\n",
    "        ax = sns.countplot(data=dataframe, y=focused_info, order = sorted(dataframe[focused_info].value_counts().index), linewidth=0.75, edgecolor=\"k\", hue='organization', palette=palette2)\n",
    "        sns.move_legend(\n",
    "            ax, \"lower center\",\n",
    "            bbox_to_anchor=(.5, 1), ncol=2, title=None, frameon=False\n",
    "        )\n",
    "        x_val = max(dataframe.groupby('organization')[focused_info].value_counts())+1\n",
    "    else: \n",
    "        ax = sns.countplot(data=dataframe, y=focused_info, order = sorted(dataframe[focused_info].value_counts().index), linewidth=0.75, edgecolor=\"k\")\n",
    "        x_val = max(dataframe[focused_info].value_counts())\n",
    "        \n",
    "    plt.xticks([i for i in range(x_val+1)])\n",
    "    ax.set_xlabel(x_label)\n",
    "    ax.set_ylabel(y_label)\n",
    "    plt.tight_layout(pad=0, w_pad=0, h_pad=0)\n",
    "    plt.figtext(0.5, 1.05, title, wrap=True, horizontalalignment='center', fontsize=15)\n",
    "    plt.show()"
   ]
  },
  {
   "cell_type": "code",
   "execution_count": 12,
   "id": "a41675a0-8d99-48bc-b625-fad285f8d179",
   "metadata": {},
   "outputs": [],
   "source": [
    "merged_user_html_df = yearly_active_users.merge(user_org_df, how='left', left_on='Username', right_on='Username')\n",
    "merged_user_html_df.drop(columns=['Name_x', 'Unnamed: 0'], inplace=True)\n",
    "merged_user_html_df.rename(columns={'Name_y':'Name'}, inplace=True)"
   ]
  },
  {
   "cell_type": "code",
   "execution_count": null,
   "id": "0eb21f81-d95c-47f6-aa66-3f5e036f7bf5",
   "metadata": {},
   "outputs": [],
   "source": []
  },
  {
   "cell_type": "code",
   "execution_count": 13,
   "id": "4682f013-3622-4c70-b03a-c5146bbe3dff",
   "metadata": {},
   "outputs": [
    {
     "data": {
      "image/png": "[encoded data removed]",
      "text/plain": [
       "<Figure size 1100x500 with 1 Axes>"
      ]
     },
     "metadata": {},
     "output_type": "display_data"
    }
   ],
   "source": [
    "plotting_org_compare(merged_user_html_df, 'Topics created', 'User Count', '# of Topics Created')"
   ]
  },
  {
   "cell_type": "code",
   "execution_count": 14,
   "id": "20eb33b1-34d0-4a6d-a411-bad8c4b1dd47",
   "metadata": {},
   "outputs": [
    {
     "data": {
      "image/png": "[encoded data removed]",
      "text/plain": [
       "<Figure size 1100x500 with 1 Axes>"
      ]
     },
     "metadata": {},
     "output_type": "display_data"
    }
   ],
   "source": [
    "plotting_org_compare(merged_user_html_df, 'Topics created', 'User Count', '# of Topics Created', hue='organization', title='Comparison of topics created in a year (June 2023 to June 2024)')"
   ]
  },
  {
   "cell_type": "code",
   "execution_count": null,
   "id": "07ef37e8-c22a-4340-9725-c5eeaaf0c4f4",
   "metadata": {},
   "outputs": [],
   "source": [
    "plotting_org_compare(merged_user_html_df, 'Replies posted', 'User Count', '# of Replies posted', title='Comparison of Replies posted in a year (June 2023 to June 2024)')"
   ]
  },
  {
   "cell_type": "code",
   "execution_count": null,
   "id": "176765ae-4d9a-4db5-a33f-d4850626fd7c",
   "metadata": {},
   "outputs": [],
   "source": [
    "plotting_org_compare(merged_user_html_df, 'Replies posted', 'User Count', '# of Replies posted', hue='organization', title='Comparison of Replies posted in a year (June 2023 to June 2024)')"
   ]
  },
  {
   "cell_type": "markdown",
   "id": "9c18a2cb-4fe0-4322-996f-7cb2d2eeca27",
   "metadata": {},
   "source": [
    "# Top 10 users from June 2023 to June 2024"
   ]
  },
  {
   "cell_type": "markdown",
   "id": "a64ba071-be03-4ea8-8d14-171018dfdbbe",
   "metadata": {},
   "source": [
    "## Yearly top users based on _Topics Created_"
   ]
  },
  {
   "cell_type": "code",
   "execution_count": null,
   "id": "fe7715a7-95f3-488e-97a9-26ac5973e0d5",
   "metadata": {},
   "outputs": [],
   "source": [
    "merged_user_html_df['Topics created'] = pd.to_numeric(merged_user_html_df['Topics created'])\n",
    "merged_user_html_df['Replies posted'] = pd.to_numeric(merged_user_html_df['Replies posted'])"
   ]
  },
  {
   "cell_type": "code",
   "execution_count": null,
   "id": "60c5d641-6f0f-49d9-92dd-edb309cd2fb8",
   "metadata": {},
   "outputs": [],
   "source": [
    "merged_user_html_df.nlargest(10, 'Topics created').drop(columns=['organization','Name'])"
   ]
  },
  {
   "cell_type": "code",
   "execution_count": null,
   "id": "4e346330-335c-46f0-968a-3cfb2cb2f3ea",
   "metadata": {},
   "outputs": [],
   "source": [
    "merged_user_html_df.nlargest(10, 'Replies posted').drop(columns=['organization','Name'])"
   ]
  },
  {
   "cell_type": "markdown",
   "id": "db55ef32-36dc-4539-9485-15969b6e65fd",
   "metadata": {},
   "source": [
    "Are Non-Medic helping answer questions or posting their own questions? Similarly,are Medic asking questions or replying to help."
   ]
  },
  {
   "cell_type": "code",
   "execution_count": null,
   "id": "ae21b2d2-b082-4c84-aee5-512dbaa74fc4",
   "metadata": {},
   "outputs": [],
   "source": [
    "sns.set_theme(rc={'figure.figsize':(9,2)})\n",
    "sns.countplot(data=merged_user_html_df, y='organization', linewidth=0.75, edgecolor=\"k\");\n",
    "plt.figtext(0.5, 1.05, 'Distribution of Medic and Non-Medic active users (June 2023 to June 2024)', wrap=True, horizontalalignment='center', fontsize=15);"
   ]
  },
  {
   "cell_type": "markdown",
   "id": "29160005-f0a5-4c6d-83d2-043b334faa06",
   "metadata": {},
   "source": [
    "# Signups and Contributions"
   ]
  },
  {
   "cell_type": "markdown",
   "id": "d8b023af-1acd-45bb-ba64-f3e784f518a9",
   "metadata": {},
   "source": [
    "For this data used were from Jan 2023 to May 2024"
   ]
  },
  {
   "cell_type": "markdown",
   "id": "e95690cc-cfa7-4e5e-898e-d81f15c77f70",
   "metadata": {},
   "source": [
    "Two things we ask: \n",
    "1. How many new signups are happening every month?\n",
    "2. How many new contributors in the forum do we have monthly?"
   ]
  },
  {
   "cell_type": "code",
   "execution_count": null,
   "id": "27f0f20d-b151-4632-a4b9-58d0131a845d",
   "metadata": {},
   "outputs": [],
   "source": [
    "df_signups = pd.read_csv('data/signups-240516-134217.csv')\n",
    "df_new_contrb = pd.read_csv('data/new-contributors-240516-134113.csv')"
   ]
  },
  {
   "cell_type": "code",
   "execution_count": null,
   "id": "0b13d2a6-34e0-46cf-902d-98792d68fe83",
   "metadata": {},
   "outputs": [],
   "source": [
    "df_signups['Day'] = pd.to_datetime(df_signups['Day'])\n",
    "df_new_contrb['Day'] = pd.to_datetime(df_new_contrb['Day'])"
   ]
  },
  {
   "cell_type": "code",
   "execution_count": null,
   "id": "514a49fe-187c-496c-bc5c-5aa577719f78",
   "metadata": {},
   "outputs": [],
   "source": [
    "def relationship_plt(df1, df2, col1_str, col2_str, palette=None, title=None):\n",
    "    tmp_df = (pd.merge(df1, df2, on='Day', how='outer')\n",
    "            .fillna(0)\n",
    "            .sort_values('Day')\n",
    "            .set_index('Day'))\n",
    "    tmp_df.columns = [col1_str, col2_str]\n",
    "    plt1_df = tmp_df.groupby(pd.Grouper(freq='M')).sum().reset_index()  # update for v0.21+\n",
    "    plt1_df.set_index('Day', inplace=True)\n",
    "    plt1_df = plt1_df[[col1_str, col2_str]].stack().reset_index()\n",
    "    plt1_df.columns = ['Date', 'Type', 'Count']\n",
    "\n",
    "    if palette:\n",
    "        sns.lineplot(data=plt1_df, x='Date', y='Count', hue='Type', style='Type', palette=palette, markers=True)\n",
    "    else:\n",
    "        sns.lineplot(data=plt1_df, x='Date', y='Count', hue='Type', style='Type', markers=True)\n",
    "\n",
    "    if title:\n",
    "        plt.figtext(0.5, 1.0, title, wrap=True, horizontalalignment='center', fontsize=15)\n",
    "    plt.show()"
   ]
  },
  {
   "cell_type": "code",
   "execution_count": null,
   "id": "b381a040-83b7-4909-a4ed-31d45d401550",
   "metadata": {},
   "outputs": [],
   "source": [
    "sns.set_theme(rc={'figure.figsize':(15,5)})"
   ]
  },
  {
   "cell_type": "code",
   "execution_count": null,
   "id": "3a5f23d2-0126-4e25-bd27-c5a0d5b10566",
   "metadata": {},
   "outputs": [],
   "source": [
    "relationship_plt(df_new_contrb, df_signups, 'New Contributors', 'Signups', title='Monthly comparison of signups and new contribution')"
   ]
  },
  {
   "cell_type": "markdown",
   "id": "b4e9cfcb-f960-4984-86fb-09d5631693b3",
   "metadata": {},
   "source": [
    "# User visits from mobile vs desktop"
   ]
  },
  {
   "cell_type": "code",
   "execution_count": null,
   "id": "c9d27d69-1309-41b3-b97f-487de320bfc5",
   "metadata": {},
   "outputs": [],
   "source": [
    "df_mobile_visits = pd.read_csv('data/mobile-visits-240517-073725.csv')\n",
    "df_visits = pd.read_csv('data/visits-240517-073750.csv')\n",
    "df_mobile_visits['Day'] = pd.to_datetime(df_mobile_visits['Day'])\n",
    "df_visits['Day'] = pd.to_datetime(df_visits['Day'])\n",
    "\n",
    "relationship_plt(df_visits, df_mobile_visits, 'All Visits', 'Mobile Visits')"
   ]
  },
  {
   "cell_type": "markdown",
   "id": "1e4432b5-6a02-4790-9add-02fc11943d28",
   "metadata": {},
   "source": [
    "# Forum Categories"
   ]
  },
  {
   "cell_type": "code",
   "execution_count": null,
   "id": "0f5c7794-30cc-4e11-9044-6430f02d0cf1",
   "metadata": {},
   "outputs": [],
   "source": [
    "palette = sns.color_palette(\"husl\", 8)"
   ]
  },
  {
   "cell_type": "markdown",
   "id": "b0bac16d-8d81-40cb-a07c-fcf93fe8fd19",
   "metadata": {},
   "source": [
    "## Categories and topics"
   ]
  },
  {
   "cell_type": "markdown",
   "id": "d61372ba-b7b3-498d-87c3-0b25eb5d578d",
   "metadata": {},
   "source": [
    "First let's compare how many topics are created in different categories which helps us understand:\n",
    "- What is the most popular category in CHT Forum (considering topics)?"
   ]
  },
  {
   "cell_type": "markdown",
   "id": "ea29d479-42fc-4470-aaf3-06288cff4a33",
   "metadata": {},
   "source": [
    "For this purpose, we take data from each sub category of a category and see distribution within sub-category of category as well as overall category comparison."
   ]
  },
  {
   "cell_type": "markdown",
   "id": "0f1dff62-4695-409e-808e-540c41e70d68",
   "metadata": {},
   "source": [
    "- For **Community** category, we have *calls*, *introduction*, *jobs and funding*, *local events*, and *community* as subcategory.\n",
    "- For **Product** category, we have *demo*, *documentation*, *release*, *roadmaps*, *product* as subcategory\n",
    "- For **Implementation** category, we have two subcategory which are *Implementation Impact and Evaluations* and *Implementation*\n",
    "- For **Technical Support** category, we have *technical support & development* and *technical support* subcategory.\n",
    "- For **Research** category, we have *Research article club* and *Research* subcategory\n",
    "- Other categories are **Design**, **Forum Feedback and Help**, and **covid19**."
   ]
  },
  {
   "cell_type": "code",
   "execution_count": null,
   "id": "e2e3d351-560b-44c3-a7cd-0b8f730072de",
   "metadata": {},
   "outputs": [],
   "source": [
    "def read_df_from_file(file_path):\n",
    "    try:\n",
    "        df = pd.read_csv(file_path)\n",
    "        return df\n",
    "    except FileNotFoundError:\n",
    "        print ('Error! File Not Found', file_path)"
   ]
  },
  {
   "cell_type": "code",
   "execution_count": null,
   "id": "34d97406-8b18-4c5c-a742-056ca9c1d76a",
   "metadata": {},
   "outputs": [],
   "source": []
  },
  {
   "cell_type": "code",
   "execution_count": null,
   "id": "396dbea4-356f-40e1-93a7-56e7783a34fd",
   "metadata": {},
   "outputs": [],
   "source": [
    "def cat_relationship_plt(dfList, col_str, y_range=None, rel_palette=None, y_type=''):\n",
    "\n",
    "    for df in dfList:\n",
    "        df['Day'] = pd.to_datetime(df['Day'])\n",
    "\n",
    "    dfs = [df.set_index('Day') for df in dfList]\n",
    "    tmp_df = pd.concat(dfs, axis=1)\n",
    "    tmp_df.columns = col_str\n",
    "    plt1_df = tmp_df.groupby(pd.Grouper(freq='M')).sum().reset_index()  # update for v0.21+\n",
    "    plt1_df.set_index('Day', inplace=True)\n",
    "    idx = pd.date_range(start='2023-01-31', end='2024-05-31', freq='M')\n",
    "    plt1_df.index = pd.DatetimeIndex(plt1_df.index)\n",
    "    plt1_df = plt1_df.reindex(idx, fill_value=0)\n",
    "\n",
    "    plt1_df = plt1_df[col_str].stack().reset_index()\n",
    "    plt1_df.columns = ['Date', 'Type', 'Count']\n",
    "\n",
    "\n",
    "    ax = sns.lineplot(\n",
    "        data=plt1_df,\n",
    "        x=\"Date\", y=\"Count\", hue=\"Type\", style=\"Type\",\n",
    "        markers=True, dashes=True, lw=1.5, palette=rel_palette\n",
    "    )\n",
    "    max_y = int(max(plt1_df['Count']))+1\n",
    "    if max_y>50:\n",
    "        y_values = [i for i in range(0, max_y, 20)]\n",
    "    elif max_y>30:\n",
    "        y_values = [i for i in range(0, max_y, 5)]\n",
    "    elif max_y>15:\n",
    "        y_values = [i for i in range(0, max_y, 2)]\n",
    "    else:\n",
    "        y_values = [i for i in range(0, max_y, 1)]\n",
    "\n",
    "    ax.set(xticks=plt1_df.Date.values)\n",
    "    ax.set(yticks=y_values)\n",
    "    plt.xticks(rotation=90)\n",
    "    ax.set_ylabel('{} Count'.format(y_type))\n",
    "    ax.set_xlabel('Month')\n",
    "    sns.move_legend(\n",
    "        ax, \"lower center\",\n",
    "        bbox_to_anchor=(.5, 1), ncol=3, title=None, frameon=False,\n",
    "    )\n",
    "    plt.tight_layout(pad=0, w_pad=0, h_pad=0)\n",
    "    plt.show()\n"
   ]
  },
  {
   "cell_type": "code",
   "execution_count": null,
   "id": "329c9ac0-14d1-4e1b-83c8-d8c19603bb30",
   "metadata": {},
   "outputs": [],
   "source": [
    "def combine_dfs(df_list, type_col=None):\n",
    "    for df in df_list:\n",
    "        df['Day'] = pd.to_datetime(df['Day'])\n",
    "    tmp_df = pd.concat(df_list, axis=0)\n",
    "    tmp_df.set_index('Day', inplace=True)\n",
    "    tmp_df = tmp_df.groupby(pd.Grouper(freq='M')).sum().reset_index()\n",
    "    if type_col:\n",
    "        tmp_df['Cat_Type'] = type_col \n",
    "        tmp_df.columns = ['Day', 'Count', 'Cat_Type']\n",
    "    return tmp_df"
   ]
  },
  {
   "cell_type": "code",
   "execution_count": null,
   "id": "b5e00153-b61f-42fc-aab5-d57aabb13d53",
   "metadata": {},
   "outputs": [],
   "source": [
    "sns.set_style('darkgrid')\n",
    "sns.set_theme(rc={'figure.figsize':(15,5)}, font_scale=1.25)"
   ]
  },
  {
   "cell_type": "code",
   "execution_count": null,
   "id": "7ea1ab3b-57af-488a-8d24-eb6084070391",
   "metadata": {},
   "outputs": [],
   "source": [
    "# read all csv files to dataframes in each directory and run functions\n",
    "\n",
    "directory_list = ['topics', 'posts']\n",
    "dfList_community_topics=None\n",
    "dfList_community_posts=None\n",
    "\n",
    "for d in directory_list:\n",
    "    \n",
    "    community_calls = read_df_from_file('{}/community/calls.csv'.format(d))\n",
    "    community_intro = read_df_from_file('{}/community/introduction.csv'.format(d))\n",
    "    community_funding = read_df_from_file('{}/community/jobs_funding.csv'.format(d))\n",
    "    community_local = read_df_from_file('{}/community/local_events.csv'.format(d))\n",
    "    community = read_df_from_file('{}/community/community.csv'.format(d))\n",
    "    col_str_community = ['calls', 'intro', 'funding', 'local', 'community']\n",
    "\n",
    "    if d == 'topics': \n",
    "        dfList_community_topics = [community_calls, community_intro, community_funding, community_local, community]\n",
    "    elif d == 'posts':\n",
    "        dfList_community_posts = [community_calls, community_intro, community_funding, community_local, community]\n",
    "\n",
    "cat_relationship_plt(dfList_community_topics, col_str_community, rel_palette=sns.color_palette('hls', 5), y_type='Topics Created')\n",
    "cat_relationship_plt(dfList_community_posts, col_str_community, rel_palette=sns.color_palette('hls', 5), y_type='Posts Replied')"
   ]
  },
  {
   "cell_type": "code",
   "execution_count": null,
   "id": "d5a9baf7-2195-4e3e-babf-b0d607521c18",
   "metadata": {},
   "outputs": [],
   "source": [
    "dfList_product_topics=None\n",
    "dfList_product_posts=None\n",
    "\n",
    "for d in directory_list:\n",
    "    product_demo = read_df_from_file('{}/product/demo.csv'.format(d))\n",
    "    product_documentation = read_df_from_file('{}/product/documentation.csv'.format(d))\n",
    "    product_feature = read_df_from_file('{}/product/feature_request.csv'.format(d))\n",
    "    product_release = read_df_from_file('{}/product/release.csv'.format(d))\n",
    "    product_road_maps = read_df_from_file('{}/product/roadmaps.csv'.format(d))\n",
    "    product = read_df_from_file('{}/product/product.csv'.format(d))\n",
    "    col_str_product = ['documentation', 'feature', 'release', 'product']\n",
    "    \n",
    "    if d == 'topics': \n",
    "        dfList_product_topics = [product_documentation, product_feature, product_release, product]\n",
    "    elif d == 'posts':\n",
    "        dfList_product_posts = [product_documentation, product_feature, product_release, product]\n",
    "\n",
    "cat_relationship_plt(dfList_product_topics, col_str_product, rel_palette=sns.color_palette('hls', 4), y_type='Topics Created')\n",
    "cat_relationship_plt(dfList_product_posts, col_str_product, rel_palette=sns.color_palette('hls', 4), y_type='Posts Replied')"
   ]
  },
  {
   "cell_type": "markdown",
   "id": "98cbe446-619b-4064-aada-8cb77c834e62",
   "metadata": {},
   "source": [
    "_In product category, subcategories \"demo\", \"roadmaps\" are empty tag_"
   ]
  },
  {
   "cell_type": "markdown",
   "id": "4eb3a90e-061c-43f5-b5fe-1fd1c3d8358e",
   "metadata": {},
   "source": [
    "_In implementation category subcategory \"Implementation Impact and Evaluations\" is empty tag_"
   ]
  },
  {
   "cell_type": "code",
   "execution_count": null,
   "id": "c59b9013-4084-4ce3-a2bf-0aa1af1f16a6",
   "metadata": {},
   "outputs": [],
   "source": [
    "sns.set_theme(rc={'figure.figsize':(15,3.5)})\n",
    "df_implementation_topics = None\n",
    "df_implementation_posts = None\n",
    "\n",
    "for d in directory_list:\n",
    "    # ignoring Implementation_Impact_Evaluations no info there\n",
    "    # implementation_impact = read_df_from_file('{}/Implementation/Implementation_Impact_Evaluations.csv'.format(d))\n",
    "    implementation = read_df_from_file('{}/Implementation/implementation.csv'.format(d))\n",
    "    cat_relationship_plt([implementation], ['Implementation'],  y_type='{}'.format(d.title()))\n",
    "    if d == 'topics':\n",
    "        df_implementation_topics = implementation\n",
    "    else:\n",
    "        df_implementation_posts = implementation"
   ]
  },
  {
   "cell_type": "code",
   "execution_count": null,
   "id": "173eef1e-c2bd-4077-ae2b-e49cf2954321",
   "metadata": {},
   "outputs": [],
   "source": [
    "sns.set_theme(rc={'figure.figsize':(15,5)})\n",
    "\n",
    "dfList_tech_spprt_topics=None\n",
    "dfList_tech_spprt_posts=None\n",
    "\n",
    "for d in directory_list:\n",
    "    technical_support_development = read_df_from_file('{}/Technical/technical_support_development.csv'.format(d))\n",
    "    technical_support = read_df_from_file('{}/Technical/technical_support.csv'.format(d))\n",
    "    col_str_technical_support = ['technical support', 'technical support & development']\n",
    "    \n",
    "    if d == 'topics': \n",
    "        dfList_tech_spprt_topics = [technical_support, technical_support_development]\n",
    "    elif d == 'posts':\n",
    "        dfList_tech_spprt_posts = [technical_support, technical_support_development]\n",
    "\n",
    "cat_relationship_plt(dfList_tech_spprt_topics, col_str_technical_support, rel_palette=sns.color_palette('hls', 2), y_type='Topics Created')\n",
    "cat_relationship_plt(dfList_tech_spprt_posts, col_str_technical_support, rel_palette=sns.color_palette('hls', 2), y_type='Posts Replied')"
   ]
  },
  {
   "cell_type": "code",
   "execution_count": null,
   "id": "3afb9eb9-1058-4144-9459-21fca8476ff5",
   "metadata": {},
   "outputs": [],
   "source": [
    "sns.set_theme(rc={'figure.figsize':(15,3.5)})\n",
    "\n",
    "dfList_resrch_topics=None\n",
    "dfList_resrch_posts=None\n",
    "\n",
    "for d in directory_list:\n",
    "    research_article = read_df_from_file('{}/Research/research_article.csv'.format(d))\n",
    "    research = read_df_from_file('{}/Research/research.csv'.format(d))\n",
    "    col_str_research = ['research article', 'research']\n",
    "    \n",
    "    if d == 'topics': \n",
    "        dfList_resrch_topics = [research_article, research]\n",
    "    elif d == 'posts':\n",
    "        dfList_resrch_posts = [research_article, research]\n",
    "\n",
    "cat_relationship_plt(dfList_resrch_topics, col_str_research, rel_palette=sns.color_palette('hls', 2), y_type='Topics Created')\n",
    "cat_relationship_plt(dfList_resrch_posts, col_str_research, rel_palette=sns.color_palette('hls', 2), y_type='Posts Replied')"
   ]
  },
  {
   "cell_type": "markdown",
   "id": "597a666f-525c-4268-a0b3-f5145aedc8df",
   "metadata": {},
   "source": [
    "_No new topics were created in category \"covid19\" but there were few posts_"
   ]
  },
  {
   "cell_type": "code",
   "execution_count": null,
   "id": "9a5a6c30-99a4-48dd-9a17-8aae418f05d4",
   "metadata": {},
   "outputs": [],
   "source": [
    "covid_df = read_df_from_file('posts/covid19.csv')\n",
    "cat_relationship_plt([covid_df], ['covid19'],  y_type='Post replied')"
   ]
  },
  {
   "cell_type": "code",
   "execution_count": null,
   "id": "c0aa7c4a-38ae-4a6a-84dd-f94d22d4f92f",
   "metadata": {},
   "outputs": [],
   "source": [
    "df_design_topics = None\n",
    "df_design_posts = None\n",
    "\n",
    "for d in directory_list:\n",
    "    design_df = read_df_from_file('{}/design.csv'.format(d))\n",
    "    cat_relationship_plt([design_df], ['design'],  y_type='{}'.format(d.title()))\n",
    "    if d == 'topics':\n",
    "        df_design_topics = design_df\n",
    "    else:\n",
    "        df_design_posts = design_df"
   ]
  },
  {
   "cell_type": "code",
   "execution_count": null,
   "id": "009ddf97-5a8e-4d22-bc5a-aee77f375fa7",
   "metadata": {},
   "outputs": [],
   "source": [
    "df_frm_feedback_topics = None\n",
    "df_frm_feedback_posts = None\n",
    "\n",
    "for d in directory_list:\n",
    "    forum_feedback_df = read_df_from_file('{}/forum_help_feedback.csv'.format(d))\n",
    "    cat_relationship_plt([forum_feedback_df], ['Forum Help Feedback'],  y_type='{}'.format(d.title()))\n",
    "    if d == 'topics':\n",
    "        df_frm_feedback_topics = forum_feedback_df\n",
    "    else:\n",
    "        df_frm_feedback_posts = forum_feedback_df"
   ]
  },
  {
   "cell_type": "code",
   "execution_count": null,
   "id": "12d6bd9e-7b94-4e77-92fd-111ae5790fb1",
   "metadata": {},
   "outputs": [],
   "source": [
    "sns.set_theme(rc={'figure.figsize':(15, 7)})\n",
    "\n",
    "cat_relationship_plt([combine_dfs(dfList_community_topics), \n",
    "                      combine_dfs(dfList_product_topics), \n",
    "                      df_implementation_topics, \n",
    "                      combine_dfs(dfList_tech_spprt_topics), \n",
    "                      combine_dfs(dfList_resrch_topics), \n",
    "                      df_design_topics, df_frm_feedback_topics], \n",
    "                     ['community', 'product', 'implementation', 'tech support', 'research', 'design', 'forum help & feedback'], \n",
    "                     rel_palette=sns.color_palette('hls', 7), y_type='Topics Created')"
   ]
  },
  {
   "cell_type": "code",
   "execution_count": null,
   "id": "4371df5a-5984-4074-b873-3be707845351",
   "metadata": {},
   "outputs": [],
   "source": [
    "cat_relationship_plt([combine_dfs(dfList_community_posts), \n",
    "                      combine_dfs(dfList_product_posts), \n",
    "                      df_implementation_posts, \n",
    "                      combine_dfs(dfList_tech_spprt_posts), \n",
    "                      combine_dfs(dfList_resrch_posts), \n",
    "                      df_design_posts, df_frm_feedback_posts], \n",
    "                     ['community', 'product', 'implementation', 'tech support', 'research', 'design', 'forum help & feedback'], \n",
    "                     rel_palette=sns.color_palette('hls', 7), y_type='Posts replied')"
   ]
  },
  {
   "cell_type": "markdown",
   "id": "2c72ed5d-bd69-48d7-a27f-8ed145187291",
   "metadata": {},
   "source": [
    "The documentation improvement and addition are not posted in CHT Forum. Some of them are misinterpreted. For example [this](https://forum.communityhealthtoolkit.org/t/count-total-docs-in-cht/2536) one here uses this tag of documentation on different contexts. Other is benchmarking of two different version. It needs clarity on when to use documentation."
   ]
  },
  {
   "cell_type": "markdown",
   "id": "3fe57e9e-5b7f-46a6-9a2d-e8e7b56372dd",
   "metadata": {},
   "source": [
    "Design category is inactive since August 2023. Are we using Product category instead? We see design under product category, also other frequently used one is ui-ux."
   ]
  },
  {
   "cell_type": "code",
   "execution_count": null,
   "id": "d0c7140a-36d9-4ef1-8893-e1e05d31be30",
   "metadata": {},
   "outputs": [],
   "source": [
    "topics_combined_df = pd.concat([combine_dfs(dfList_community_topics, 'community'), \n",
    "                      combine_dfs(dfList_product_topics, 'product'), \n",
    "                      combine_dfs([df_implementation_topics], 'implementation'), \n",
    "                      combine_dfs(dfList_tech_spprt_topics, 'tech support'), \n",
    "                      combine_dfs(dfList_resrch_topics, 'research'), \n",
    "                      combine_dfs([df_design_topics],'design'), \n",
    "                      combine_dfs([df_frm_feedback_topics],'forum feedback')],\n",
    "           )\n",
    "topics_cat_sum = topics_combined_df.groupby('Cat_Type')['Count'].sum().reset_index()\n",
    "topics_cat_sum.columns = ['Category', 'Topics Sum']"
   ]
  },
  {
   "cell_type": "code",
   "execution_count": null,
   "id": "7c9feaee-3f75-4747-ae43-2d59e8d95e02",
   "metadata": {},
   "outputs": [],
   "source": [
    "posts_combined_df = pd.concat([combine_dfs(dfList_community_posts, 'community'), \n",
    "                      combine_dfs(dfList_product_posts, 'product'), \n",
    "                      combine_dfs([df_implementation_posts], 'implementation'), \n",
    "                      combine_dfs(dfList_tech_spprt_posts, 'tech support'), \n",
    "                      combine_dfs(dfList_resrch_posts, 'research'), \n",
    "                      combine_dfs([df_design_posts],'design'), \n",
    "                      combine_dfs([df_frm_feedback_posts],'forum feedback')],\n",
    "           )\n",
    "posts_cat_sum = posts_combined_df.groupby('Cat_Type')['Count'].sum().reset_index()\n",
    "posts_cat_sum.columns = ['Category', 'Posts Sum']"
   ]
  },
  {
   "cell_type": "code",
   "execution_count": null,
   "id": "85bb0b52-2407-4a1c-920a-feb9bde8e82f",
   "metadata": {},
   "outputs": [],
   "source": [
    "topics_cat_sum.merge(posts_cat_sum, how='left', on='Category')"
   ]
  },
  {
   "cell_type": "markdown",
   "id": "4f6270e9-d127-490f-8d7f-fd1b1395e105",
   "metadata": {},
   "source": [
    "It is interesting to see some interaction in \"forum feedback\" but if you look into actual conversations, majority are technical issues and one survey request."
   ]
  }
 ],
 "metadata": {
  "kernelspec": {
   "display_name": "Python 3 (ipykernel)",
   "language": "python",
   "name": "python3"
  },
  "language_info": {
   "codemirror_mode": {
    "name": "ipython",
    "version": 3
   },
   "file_extension": ".py",
   "mimetype": "text/x-python",
   "name": "python",
   "nbconvert_exporter": "python",
   "pygments_lexer": "ipython3",
   "version": "3.9.6"
  }
 },
 "nbformat": 4,
 "nbformat_minor": 5
}
